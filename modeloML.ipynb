{
 "cells": [
  {
   "cell_type": "code",
   "execution_count": 2,
   "metadata": {},
   "outputs": [],
   "source": [
    "import pandas as pd"
   ]
  },
  {
   "cell_type": "code",
   "execution_count": 5,
   "metadata": {},
   "outputs": [],
   "source": [
    "MoviesDataset = pd.read_csv(\"movies_dataset_final.csv\")"
   ]
  },
  {
   "cell_type": "code",
   "execution_count": 6,
   "metadata": {},
   "outputs": [],
   "source": [
    "from sklearn.cluster import KMeans\n",
    "\n",
    "ModeloML = KMeans(n_clusters=200, random_state=42)"
   ]
  },
  {
   "cell_type": "code",
   "execution_count": 11,
   "metadata": {},
   "outputs": [
    {
     "data": {
      "text/plain": [
       "Index(['budget', 'id', 'original_language', 'overview', 'popularity',\n",
       "       'release_date', 'revenue', 'runtime', 'status', 'tagline', 'title',\n",
       "       'vote_average', 'vote_count', 'release_year', 'return', 'genre_names',\n",
       "       'collection_name', 'companies_names', 'languages_names',\n",
       "       'countries_names', 'cast_names', 'crew_names'],\n",
       "      dtype='object')"
      ]
     },
     "execution_count": 11,
     "metadata": {},
     "output_type": "execute_result"
    }
   ],
   "source": [
    "MoviesDataset.columns"
   ]
  },
  {
   "cell_type": "code",
   "execution_count": 34,
   "metadata": {},
   "outputs": [],
   "source": [
    "VariablesMML = [\"companies_names\", \"genre_names\", \"release_year\", \"popularity\", \"vote_average\"]"
   ]
  },
  {
   "cell_type": "code",
   "execution_count": 35,
   "metadata": {},
   "outputs": [],
   "source": [
    "DatasetMML = MoviesDataset[VariablesMML]"
   ]
  },
  {
   "cell_type": "code",
   "execution_count": 36,
   "metadata": {},
   "outputs": [
    {
     "data": {
      "text/html": [
       "<div>\n",
       "<style scoped>\n",
       "    .dataframe tbody tr th:only-of-type {\n",
       "        vertical-align: middle;\n",
       "    }\n",
       "\n",
       "    .dataframe tbody tr th {\n",
       "        vertical-align: top;\n",
       "    }\n",
       "\n",
       "    .dataframe thead th {\n",
       "        text-align: right;\n",
       "    }\n",
       "</style>\n",
       "<table border=\"1\" class=\"dataframe\">\n",
       "  <thead>\n",
       "    <tr style=\"text-align: right;\">\n",
       "      <th></th>\n",
       "      <th>companies_names</th>\n",
       "      <th>genre_names</th>\n",
       "      <th>release_year</th>\n",
       "      <th>popularity</th>\n",
       "      <th>vote_average</th>\n",
       "    </tr>\n",
       "  </thead>\n",
       "  <tbody>\n",
       "    <tr>\n",
       "      <th>0</th>\n",
       "      <td>['Pixar Animation Studios']</td>\n",
       "      <td>['Animation', 'Comedy', 'Family']</td>\n",
       "      <td>1995</td>\n",
       "      <td>21.946943</td>\n",
       "      <td>7.7</td>\n",
       "    </tr>\n",
       "    <tr>\n",
       "      <th>1</th>\n",
       "      <td>['TriStar Pictures', 'Teitler Film', 'Intersco...</td>\n",
       "      <td>['Adventure', 'Fantasy', 'Family']</td>\n",
       "      <td>1995</td>\n",
       "      <td>17.015539</td>\n",
       "      <td>6.9</td>\n",
       "    </tr>\n",
       "    <tr>\n",
       "      <th>2</th>\n",
       "      <td>['Warner Bros.', 'Lancaster Gate']</td>\n",
       "      <td>['Romance', 'Comedy']</td>\n",
       "      <td>1995</td>\n",
       "      <td>11.712900</td>\n",
       "      <td>6.5</td>\n",
       "    </tr>\n",
       "    <tr>\n",
       "      <th>3</th>\n",
       "      <td>['Twentieth Century Fox Film Corporation']</td>\n",
       "      <td>['Comedy', 'Drama', 'Romance']</td>\n",
       "      <td>1995</td>\n",
       "      <td>3.859495</td>\n",
       "      <td>6.1</td>\n",
       "    </tr>\n",
       "    <tr>\n",
       "      <th>4</th>\n",
       "      <td>['Sandollar Productions', 'Touchstone Pictures']</td>\n",
       "      <td>['Comedy']</td>\n",
       "      <td>1995</td>\n",
       "      <td>8.387519</td>\n",
       "      <td>5.7</td>\n",
       "    </tr>\n",
       "    <tr>\n",
       "      <th>...</th>\n",
       "      <td>...</td>\n",
       "      <td>...</td>\n",
       "      <td>...</td>\n",
       "      <td>...</td>\n",
       "      <td>...</td>\n",
       "    </tr>\n",
       "    <tr>\n",
       "      <th>45361</th>\n",
       "      <td>['Mystery Productions']</td>\n",
       "      <td>[]</td>\n",
       "      <td>2016</td>\n",
       "      <td>0.516993</td>\n",
       "      <td>7.0</td>\n",
       "    </tr>\n",
       "    <tr>\n",
       "      <th>45362</th>\n",
       "      <td>['Viking Film', 'Snowcloud Films']</td>\n",
       "      <td>['Fantasy', 'Comedy', 'Romance', 'Drama']</td>\n",
       "      <td>2017</td>\n",
       "      <td>0.600717</td>\n",
       "      <td>7.1</td>\n",
       "    </tr>\n",
       "    <tr>\n",
       "      <th>45363</th>\n",
       "      <td>['Telewizja Polska - Agencja Filmowa']</td>\n",
       "      <td>['Comedy', 'Romance']</td>\n",
       "      <td>2013</td>\n",
       "      <td>0.036523</td>\n",
       "      <td>0.0</td>\n",
       "    </tr>\n",
       "    <tr>\n",
       "      <th>45364</th>\n",
       "      <td>[]</td>\n",
       "      <td>['Adventure']</td>\n",
       "      <td>1973</td>\n",
       "      <td>0.006352</td>\n",
       "      <td>0.0</td>\n",
       "    </tr>\n",
       "    <tr>\n",
       "      <th>45365</th>\n",
       "      <td>['Balapolis']</td>\n",
       "      <td>['Documentary', 'Foreign']</td>\n",
       "      <td>2005</td>\n",
       "      <td>0.110421</td>\n",
       "      <td>8.3</td>\n",
       "    </tr>\n",
       "  </tbody>\n",
       "</table>\n",
       "<p>45366 rows × 5 columns</p>\n",
       "</div>"
      ],
      "text/plain": [
       "                                         companies_names  \\\n",
       "0                            ['Pixar Animation Studios']   \n",
       "1      ['TriStar Pictures', 'Teitler Film', 'Intersco...   \n",
       "2                     ['Warner Bros.', 'Lancaster Gate']   \n",
       "3             ['Twentieth Century Fox Film Corporation']   \n",
       "4       ['Sandollar Productions', 'Touchstone Pictures']   \n",
       "...                                                  ...   \n",
       "45361                            ['Mystery Productions']   \n",
       "45362                 ['Viking Film', 'Snowcloud Films']   \n",
       "45363             ['Telewizja Polska - Agencja Filmowa']   \n",
       "45364                                                 []   \n",
       "45365                                      ['Balapolis']   \n",
       "\n",
       "                                     genre_names  release_year  popularity  \\\n",
       "0              ['Animation', 'Comedy', 'Family']          1995   21.946943   \n",
       "1             ['Adventure', 'Fantasy', 'Family']          1995   17.015539   \n",
       "2                          ['Romance', 'Comedy']          1995   11.712900   \n",
       "3                 ['Comedy', 'Drama', 'Romance']          1995    3.859495   \n",
       "4                                     ['Comedy']          1995    8.387519   \n",
       "...                                          ...           ...         ...   \n",
       "45361                                         []          2016    0.516993   \n",
       "45362  ['Fantasy', 'Comedy', 'Romance', 'Drama']          2017    0.600717   \n",
       "45363                      ['Comedy', 'Romance']          2013    0.036523   \n",
       "45364                              ['Adventure']          1973    0.006352   \n",
       "45365                 ['Documentary', 'Foreign']          2005    0.110421   \n",
       "\n",
       "       vote_average  \n",
       "0               7.7  \n",
       "1               6.9  \n",
       "2               6.5  \n",
       "3               6.1  \n",
       "4               5.7  \n",
       "...             ...  \n",
       "45361           7.0  \n",
       "45362           7.1  \n",
       "45363           0.0  \n",
       "45364           0.0  \n",
       "45365           8.3  \n",
       "\n",
       "[45366 rows x 5 columns]"
      ]
     },
     "execution_count": 36,
     "metadata": {},
     "output_type": "execute_result"
    }
   ],
   "source": [
    "DatasetMML"
   ]
  },
  {
   "cell_type": "code",
   "execution_count": 44,
   "metadata": {},
   "outputs": [],
   "source": [
    "import ast\n",
    "\n",
    "listaGenre = []\n",
    "for i in range(len(DatasetMML)):\n",
    "    listaGenre.append(ast.literal_eval(DatasetMML[\"genre_names\"][i]))"
   ]
  },
  {
   "cell_type": "code",
   "execution_count": 38,
   "metadata": {},
   "outputs": [],
   "source": [
    "listaCompanies = []\n",
    "for i in range(len(DatasetMML)):\n",
    "    listaCompanies.append(ast.literal_eval(DatasetMML[\"companies_names\"][i]))"
   ]
  },
  {
   "cell_type": "code",
   "execution_count": 48,
   "metadata": {},
   "outputs": [],
   "source": [
    "from sklearn.preprocessing import MultiLabelBinarizer\n",
    "\n",
    "# Realizar codificación one-hot\n",
    "mlb1 = MultiLabelBinarizer()\n",
    "DataCodificada1 = mlb1.fit_transform(listaGenre)\n",
    "DatosGenre = pd.DataFrame(DataCodificada1, columns=mlb1.classes_)"
   ]
  },
  {
   "cell_type": "code",
   "execution_count": 49,
   "metadata": {},
   "outputs": [],
   "source": [
    "mlb2 = MultiLabelBinarizer()\n",
    "DataCodificada2 = mlb2.fit_transform(listaCompanies)\n",
    "DatosCompanies = pd.DataFrame(DataCodificada2, columns=mlb2.classes_)"
   ]
  },
  {
   "cell_type": "code",
   "execution_count": 53,
   "metadata": {},
   "outputs": [
    {
     "name": "stderr",
     "output_type": "stream",
     "text": [
      "C:\\Users\\Windows\\AppData\\Local\\Temp\\ipykernel_9504\\3948754340.py:1: FutureWarning: In a future version of pandas all arguments of DataFrame.drop except for the argument 'labels' will be keyword-only.\n",
      "  DatasetMML.drop(\"companies_names\", \"genre_names\", axis=1)\n"
     ]
    },
    {
     "ename": "TypeError",
     "evalue": "DataFrame.drop() got multiple values for argument 'axis'",
     "output_type": "error",
     "traceback": [
      "\u001b[1;31m---------------------------------------------------------------------------\u001b[0m",
      "\u001b[1;31mTypeError\u001b[0m                                 Traceback (most recent call last)",
      "Cell \u001b[1;32mIn[53], line 1\u001b[0m\n\u001b[1;32m----> 1\u001b[0m DatasetMML\u001b[39m.\u001b[39;49mdrop(\u001b[39m\"\u001b[39;49m\u001b[39mcompanies_names\u001b[39;49m\u001b[39m\"\u001b[39;49m, \u001b[39m\"\u001b[39;49m\u001b[39mgenre_names\u001b[39;49m\u001b[39m\"\u001b[39;49m, axis\u001b[39m=\u001b[39;49m\u001b[39m1\u001b[39;49m)\n",
      "File \u001b[1;32mc:\\Users\\Windows\\AppData\\Local\\Programs\\Python\\Python311\\Lib\\site-packages\\pandas\\util\\_decorators.py:331\u001b[0m, in \u001b[0;36mdeprecate_nonkeyword_arguments.<locals>.decorate.<locals>.wrapper\u001b[1;34m(*args, **kwargs)\u001b[0m\n\u001b[0;32m    325\u001b[0m \u001b[39mif\u001b[39;00m \u001b[39mlen\u001b[39m(args) \u001b[39m>\u001b[39m num_allow_args:\n\u001b[0;32m    326\u001b[0m     warnings\u001b[39m.\u001b[39mwarn(\n\u001b[0;32m    327\u001b[0m         msg\u001b[39m.\u001b[39mformat(arguments\u001b[39m=\u001b[39m_format_argument_list(allow_args)),\n\u001b[0;32m    328\u001b[0m         \u001b[39mFutureWarning\u001b[39;00m,\n\u001b[0;32m    329\u001b[0m         stacklevel\u001b[39m=\u001b[39mfind_stack_level(),\n\u001b[0;32m    330\u001b[0m     )\n\u001b[1;32m--> 331\u001b[0m \u001b[39mreturn\u001b[39;00m func(\u001b[39m*\u001b[39;49margs, \u001b[39m*\u001b[39;49m\u001b[39m*\u001b[39;49mkwargs)\n",
      "\u001b[1;31mTypeError\u001b[0m: DataFrame.drop() got multiple values for argument 'axis'"
     ]
    }
   ],
   "source": [
    "DatasetMML.drop(\"companies_names\", \"genre_names\", axis=1)"
   ]
  }
 ],
 "metadata": {
  "kernelspec": {
   "display_name": "Python 3",
   "language": "python",
   "name": "python3"
  },
  "language_info": {
   "codemirror_mode": {
    "name": "ipython",
    "version": 3
   },
   "file_extension": ".py",
   "mimetype": "text/x-python",
   "name": "python",
   "nbconvert_exporter": "python",
   "pygments_lexer": "ipython3",
   "version": "3.11.1"
  },
  "orig_nbformat": 4
 },
 "nbformat": 4,
 "nbformat_minor": 2
}
