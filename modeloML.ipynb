{
 "cells": [
  {
   "cell_type": "code",
   "execution_count": 57,
   "metadata": {},
   "outputs": [],
   "source": [
    "import pandas as pd\n",
    "import numpy as np\n",
    "import nltk\n",
    "nltk.download('punkt')"
   ]
  },
  {
   "cell_type": "code",
   "execution_count": 58,
   "metadata": {},
   "outputs": [],
   "source": [
    "MoviesDataset = pd.read_csv(\"DataSets/movies_dataset_final.csv\")"
   ]
  },
  {
   "cell_type": "code",
   "execution_count": 59,
   "metadata": {},
   "outputs": [],
   "source": [
    "\n",
    "MoviesOverviews = []\n",
    "MoviesTitle = []\n",
    "\n",
    "for i in range(len(MoviesDataset)):\n",
    "    MoviesOverviews.append(MoviesDataset[\"overview\"][i])\n",
    "    MoviesTitle.append(MoviesDataset[\"title\"][i])\n"
   ]
  },
  {
   "cell_type": "code",
   "execution_count": 60,
   "metadata": {},
   "outputs": [
    {
     "data": {
      "text/plain": [
       "\"Led by Woody, Andy's toys live happily in his room until Andy's birthday brings Buzz Lightyear onto the scene. Afraid of losing his place in Andy's heart, Woody plots against Buzz. But when circumstances separate Buzz and Woody from their owner, the duo eventually learns to put aside their differences.\""
      ]
     },
     "execution_count": 60,
     "metadata": {},
     "output_type": "execute_result"
    }
   ],
   "source": [
    "MoviesOverviews[0]"
   ]
  },
  {
   "cell_type": "code",
   "execution_count": 61,
   "metadata": {},
   "outputs": [],
   "source": [
    "from nltk.tokenize import word_tokenize\n",
    "\n",
    "for i in range(len(MoviesOverviews)):\n",
    "    if type(MoviesOverviews[i]) == str: \n",
    "        MoviesOverviews[i] = word_tokenize(MoviesOverviews[i])\n",
    "    else:\n",
    "        MoviesOverviews[i] = []\n"
   ]
  },
  {
   "cell_type": "code",
   "execution_count": 62,
   "metadata": {},
   "outputs": [
    {
     "data": {
      "text/plain": [
       "['Led',\n",
       " 'by',\n",
       " 'Woody',\n",
       " ',',\n",
       " 'Andy',\n",
       " \"'s\",\n",
       " 'toys',\n",
       " 'live',\n",
       " 'happily',\n",
       " 'in',\n",
       " 'his',\n",
       " 'room',\n",
       " 'until',\n",
       " 'Andy',\n",
       " \"'s\",\n",
       " 'birthday',\n",
       " 'brings',\n",
       " 'Buzz',\n",
       " 'Lightyear',\n",
       " 'onto',\n",
       " 'the',\n",
       " 'scene',\n",
       " '.',\n",
       " 'Afraid',\n",
       " 'of',\n",
       " 'losing',\n",
       " 'his',\n",
       " 'place',\n",
       " 'in',\n",
       " 'Andy',\n",
       " \"'s\",\n",
       " 'heart',\n",
       " ',',\n",
       " 'Woody',\n",
       " 'plots',\n",
       " 'against',\n",
       " 'Buzz',\n",
       " '.',\n",
       " 'But',\n",
       " 'when',\n",
       " 'circumstances',\n",
       " 'separate',\n",
       " 'Buzz',\n",
       " 'and',\n",
       " 'Woody',\n",
       " 'from',\n",
       " 'their',\n",
       " 'owner',\n",
       " ',',\n",
       " 'the',\n",
       " 'duo',\n",
       " 'eventually',\n",
       " 'learns',\n",
       " 'to',\n",
       " 'put',\n",
       " 'aside',\n",
       " 'their',\n",
       " 'differences',\n",
       " '.']"
      ]
     },
     "execution_count": 62,
     "metadata": {},
     "output_type": "execute_result"
    }
   ],
   "source": [
    "MoviesOverviews[0]"
   ]
  },
  {
   "cell_type": "code",
   "execution_count": 63,
   "metadata": {},
   "outputs": [],
   "source": [
    "import string\n",
    "\n",
    "MoviesOverviews2 = [[] for _ in range(len(MoviesOverviews))]\n",
    "\n",
    "for i in range(len(MoviesOverviews)):\n",
    "    for word in MoviesOverviews[i]:\n",
    "        for letter in word:\n",
    "            if letter in string.punctuation:\n",
    "                word=word.replace(letter,\"\")\n",
    "        MoviesOverviews2[i].append(word)"
   ]
  },
  {
   "cell_type": "code",
   "execution_count": 83,
   "metadata": {},
   "outputs": [
    {
     "data": {
      "text/plain": [
       "'!\"#$%&\\'()*+,-./:;<=>?@[\\\\]^_`{|}~'"
      ]
     },
     "execution_count": 83,
     "metadata": {},
     "output_type": "execute_result"
    }
   ],
   "source": [
    "string.punctuation"
   ]
  },
  {
   "cell_type": "code",
   "execution_count": 64,
   "metadata": {},
   "outputs": [
    {
     "data": {
      "text/plain": [
       "['Led',\n",
       " 'by',\n",
       " 'Woody',\n",
       " '',\n",
       " 'Andy',\n",
       " 's',\n",
       " 'toys',\n",
       " 'live',\n",
       " 'happily',\n",
       " 'in',\n",
       " 'his',\n",
       " 'room',\n",
       " 'until',\n",
       " 'Andy',\n",
       " 's',\n",
       " 'birthday',\n",
       " 'brings',\n",
       " 'Buzz',\n",
       " 'Lightyear',\n",
       " 'onto',\n",
       " 'the',\n",
       " 'scene',\n",
       " '',\n",
       " 'Afraid',\n",
       " 'of',\n",
       " 'losing',\n",
       " 'his',\n",
       " 'place',\n",
       " 'in',\n",
       " 'Andy',\n",
       " 's',\n",
       " 'heart',\n",
       " '',\n",
       " 'Woody',\n",
       " 'plots',\n",
       " 'against',\n",
       " 'Buzz',\n",
       " '',\n",
       " 'But',\n",
       " 'when',\n",
       " 'circumstances',\n",
       " 'separate',\n",
       " 'Buzz',\n",
       " 'and',\n",
       " 'Woody',\n",
       " 'from',\n",
       " 'their',\n",
       " 'owner',\n",
       " '',\n",
       " 'the',\n",
       " 'duo',\n",
       " 'eventually',\n",
       " 'learns',\n",
       " 'to',\n",
       " 'put',\n",
       " 'aside',\n",
       " 'their',\n",
       " 'differences',\n",
       " '']"
      ]
     },
     "execution_count": 64,
     "metadata": {},
     "output_type": "execute_result"
    }
   ],
   "source": [
    "MoviesOverviews2[0]"
   ]
  },
  {
   "cell_type": "code",
   "execution_count": 65,
   "metadata": {},
   "outputs": [],
   "source": [
    "MoviesOverviews3 = [[] for _ in range(len(MoviesOverviews))]\n",
    "\n",
    "for i in range(len(MoviesOverviews2)):\n",
    "    for word in MoviesOverviews2[i]:\n",
    "        if word != \"\":\n",
    "            MoviesOverviews3[i].append(word)"
   ]
  },
  {
   "cell_type": "code",
   "execution_count": 66,
   "metadata": {},
   "outputs": [
    {
     "data": {
      "text/plain": [
       "['Led',\n",
       " 'by',\n",
       " 'Woody',\n",
       " 'Andy',\n",
       " 's',\n",
       " 'toys',\n",
       " 'live',\n",
       " 'happily',\n",
       " 'in',\n",
       " 'his',\n",
       " 'room',\n",
       " 'until',\n",
       " 'Andy',\n",
       " 's',\n",
       " 'birthday',\n",
       " 'brings',\n",
       " 'Buzz',\n",
       " 'Lightyear',\n",
       " 'onto',\n",
       " 'the',\n",
       " 'scene',\n",
       " 'Afraid',\n",
       " 'of',\n",
       " 'losing',\n",
       " 'his',\n",
       " 'place',\n",
       " 'in',\n",
       " 'Andy',\n",
       " 's',\n",
       " 'heart',\n",
       " 'Woody',\n",
       " 'plots',\n",
       " 'against',\n",
       " 'Buzz',\n",
       " 'But',\n",
       " 'when',\n",
       " 'circumstances',\n",
       " 'separate',\n",
       " 'Buzz',\n",
       " 'and',\n",
       " 'Woody',\n",
       " 'from',\n",
       " 'their',\n",
       " 'owner',\n",
       " 'the',\n",
       " 'duo',\n",
       " 'eventually',\n",
       " 'learns',\n",
       " 'to',\n",
       " 'put',\n",
       " 'aside',\n",
       " 'their',\n",
       " 'differences']"
      ]
     },
     "execution_count": 66,
     "metadata": {},
     "output_type": "execute_result"
    }
   ],
   "source": [
    "MoviesOverviews3[0]"
   ]
  },
  {
   "cell_type": "code",
   "execution_count": 67,
   "metadata": {},
   "outputs": [],
   "source": [
    "MoviesOverviews4 = [[] for _ in range(len(MoviesOverviews))]\n",
    "\n",
    "for i in range(len(MoviesOverviews3)):\n",
    "    for word in MoviesOverviews3[i]:\n",
    "        word = word.lower()\n",
    "        MoviesOverviews4[i].append(word)"
   ]
  },
  {
   "cell_type": "code",
   "execution_count": 68,
   "metadata": {},
   "outputs": [
    {
     "data": {
      "text/plain": [
       "['led',\n",
       " 'by',\n",
       " 'woody',\n",
       " 'andy',\n",
       " 's',\n",
       " 'toys',\n",
       " 'live',\n",
       " 'happily',\n",
       " 'in',\n",
       " 'his',\n",
       " 'room',\n",
       " 'until',\n",
       " 'andy',\n",
       " 's',\n",
       " 'birthday',\n",
       " 'brings',\n",
       " 'buzz',\n",
       " 'lightyear',\n",
       " 'onto',\n",
       " 'the',\n",
       " 'scene',\n",
       " 'afraid',\n",
       " 'of',\n",
       " 'losing',\n",
       " 'his',\n",
       " 'place',\n",
       " 'in',\n",
       " 'andy',\n",
       " 's',\n",
       " 'heart',\n",
       " 'woody',\n",
       " 'plots',\n",
       " 'against',\n",
       " 'buzz',\n",
       " 'but',\n",
       " 'when',\n",
       " 'circumstances',\n",
       " 'separate',\n",
       " 'buzz',\n",
       " 'and',\n",
       " 'woody',\n",
       " 'from',\n",
       " 'their',\n",
       " 'owner',\n",
       " 'the',\n",
       " 'duo',\n",
       " 'eventually',\n",
       " 'learns',\n",
       " 'to',\n",
       " 'put',\n",
       " 'aside',\n",
       " 'their',\n",
       " 'differences']"
      ]
     },
     "execution_count": 68,
     "metadata": {},
     "output_type": "execute_result"
    }
   ],
   "source": [
    "MoviesOverviews4[0]"
   ]
  },
  {
   "cell_type": "code",
   "execution_count": 69,
   "metadata": {},
   "outputs": [],
   "source": [
    "MoviesOverviews5 = [[] for _ in range(len(MoviesOverviews))]\n",
    "\n",
    "for i in range(len(MoviesOverviews4)):\n",
    "    for word in MoviesOverviews4[i]:\n",
    "        if len(word)>=3:\n",
    "            MoviesOverviews5[i].append(word)"
   ]
  },
  {
   "cell_type": "code",
   "execution_count": 70,
   "metadata": {},
   "outputs": [
    {
     "data": {
      "text/plain": [
       "['led',\n",
       " 'woody',\n",
       " 'andy',\n",
       " 'toys',\n",
       " 'live',\n",
       " 'happily',\n",
       " 'his',\n",
       " 'room',\n",
       " 'until',\n",
       " 'andy',\n",
       " 'birthday',\n",
       " 'brings',\n",
       " 'buzz',\n",
       " 'lightyear',\n",
       " 'onto',\n",
       " 'the',\n",
       " 'scene',\n",
       " 'afraid',\n",
       " 'losing',\n",
       " 'his',\n",
       " 'place',\n",
       " 'andy',\n",
       " 'heart',\n",
       " 'woody',\n",
       " 'plots',\n",
       " 'against',\n",
       " 'buzz',\n",
       " 'but',\n",
       " 'when',\n",
       " 'circumstances',\n",
       " 'separate',\n",
       " 'buzz',\n",
       " 'and',\n",
       " 'woody',\n",
       " 'from',\n",
       " 'their',\n",
       " 'owner',\n",
       " 'the',\n",
       " 'duo',\n",
       " 'eventually',\n",
       " 'learns',\n",
       " 'put',\n",
       " 'aside',\n",
       " 'their',\n",
       " 'differences']"
      ]
     },
     "execution_count": 70,
     "metadata": {},
     "output_type": "execute_result"
    }
   ],
   "source": [
    "MoviesOverviews5[0]"
   ]
  },
  {
   "cell_type": "code",
   "execution_count": 71,
   "metadata": {},
   "outputs": [],
   "source": [
    "from nltk.corpus import stopwords\n",
    "\n",
    "nltk.download(\"stopwords\")\n",
    "\n",
    "a=set(stopwords.words('english'))\n",
    "\n",
    "MoviesOverviews6 = [[] for _ in range(len(MoviesOverviews))]\n",
    "\n",
    "for i in range(len(MoviesOverviews5)):\n",
    "    MoviesOverviews6[i] = [word for word in MoviesOverviews5[i] if word not in a]\n"
   ]
  },
  {
   "cell_type": "code",
   "execution_count": 84,
   "metadata": {},
   "outputs": [
    {
     "data": {
      "text/plain": [
       "['i',\n",
       " 'me',\n",
       " 'my',\n",
       " 'myself',\n",
       " 'we',\n",
       " 'our',\n",
       " 'ours',\n",
       " 'ourselves',\n",
       " 'you',\n",
       " \"you're\",\n",
       " \"you've\",\n",
       " \"you'll\",\n",
       " \"you'd\",\n",
       " 'your',\n",
       " 'yours',\n",
       " 'yourself',\n",
       " 'yourselves',\n",
       " 'he',\n",
       " 'him',\n",
       " 'his',\n",
       " 'himself',\n",
       " 'she',\n",
       " \"she's\",\n",
       " 'her',\n",
       " 'hers',\n",
       " 'herself',\n",
       " 'it',\n",
       " \"it's\",\n",
       " 'its',\n",
       " 'itself',\n",
       " 'they',\n",
       " 'them',\n",
       " 'their',\n",
       " 'theirs',\n",
       " 'themselves',\n",
       " 'what',\n",
       " 'which',\n",
       " 'who',\n",
       " 'whom',\n",
       " 'this',\n",
       " 'that',\n",
       " \"that'll\",\n",
       " 'these',\n",
       " 'those',\n",
       " 'am',\n",
       " 'is',\n",
       " 'are',\n",
       " 'was',\n",
       " 'were',\n",
       " 'be',\n",
       " 'been',\n",
       " 'being',\n",
       " 'have',\n",
       " 'has',\n",
       " 'had',\n",
       " 'having',\n",
       " 'do',\n",
       " 'does',\n",
       " 'did',\n",
       " 'doing',\n",
       " 'a',\n",
       " 'an',\n",
       " 'the',\n",
       " 'and',\n",
       " 'but',\n",
       " 'if',\n",
       " 'or',\n",
       " 'because',\n",
       " 'as',\n",
       " 'until',\n",
       " 'while',\n",
       " 'of',\n",
       " 'at',\n",
       " 'by',\n",
       " 'for',\n",
       " 'with',\n",
       " 'about',\n",
       " 'against',\n",
       " 'between',\n",
       " 'into',\n",
       " 'through',\n",
       " 'during',\n",
       " 'before',\n",
       " 'after',\n",
       " 'above',\n",
       " 'below',\n",
       " 'to',\n",
       " 'from',\n",
       " 'up',\n",
       " 'down',\n",
       " 'in',\n",
       " 'out',\n",
       " 'on',\n",
       " 'off',\n",
       " 'over',\n",
       " 'under',\n",
       " 'again',\n",
       " 'further',\n",
       " 'then',\n",
       " 'once',\n",
       " 'here',\n",
       " 'there',\n",
       " 'when',\n",
       " 'where',\n",
       " 'why',\n",
       " 'how',\n",
       " 'all',\n",
       " 'any',\n",
       " 'both',\n",
       " 'each',\n",
       " 'few',\n",
       " 'more',\n",
       " 'most',\n",
       " 'other',\n",
       " 'some',\n",
       " 'such',\n",
       " 'no',\n",
       " 'nor',\n",
       " 'not',\n",
       " 'only',\n",
       " 'own',\n",
       " 'same',\n",
       " 'so',\n",
       " 'than',\n",
       " 'too',\n",
       " 'very',\n",
       " 's',\n",
       " 't',\n",
       " 'can',\n",
       " 'will',\n",
       " 'just',\n",
       " 'don',\n",
       " \"don't\",\n",
       " 'should',\n",
       " \"should've\",\n",
       " 'now',\n",
       " 'd',\n",
       " 'll',\n",
       " 'm',\n",
       " 'o',\n",
       " 're',\n",
       " 've',\n",
       " 'y',\n",
       " 'ain',\n",
       " 'aren',\n",
       " \"aren't\",\n",
       " 'couldn',\n",
       " \"couldn't\",\n",
       " 'didn',\n",
       " \"didn't\",\n",
       " 'doesn',\n",
       " \"doesn't\",\n",
       " 'hadn',\n",
       " \"hadn't\",\n",
       " 'hasn',\n",
       " \"hasn't\",\n",
       " 'haven',\n",
       " \"haven't\",\n",
       " 'isn',\n",
       " \"isn't\",\n",
       " 'ma',\n",
       " 'mightn',\n",
       " \"mightn't\",\n",
       " 'mustn',\n",
       " \"mustn't\",\n",
       " 'needn',\n",
       " \"needn't\",\n",
       " 'shan',\n",
       " \"shan't\",\n",
       " 'shouldn',\n",
       " \"shouldn't\",\n",
       " 'wasn',\n",
       " \"wasn't\",\n",
       " 'weren',\n",
       " \"weren't\",\n",
       " 'won',\n",
       " \"won't\",\n",
       " 'wouldn',\n",
       " \"wouldn't\"]"
      ]
     },
     "execution_count": 84,
     "metadata": {},
     "output_type": "execute_result"
    }
   ],
   "source": [
    "stopwords.words(\"english\")"
   ]
  },
  {
   "cell_type": "code",
   "execution_count": 72,
   "metadata": {},
   "outputs": [
    {
     "data": {
      "text/plain": [
       "['led',\n",
       " 'woody',\n",
       " 'andy',\n",
       " 'toys',\n",
       " 'live',\n",
       " 'happily',\n",
       " 'room',\n",
       " 'andy',\n",
       " 'birthday',\n",
       " 'brings',\n",
       " 'buzz',\n",
       " 'lightyear',\n",
       " 'onto',\n",
       " 'scene',\n",
       " 'afraid',\n",
       " 'losing',\n",
       " 'place',\n",
       " 'andy',\n",
       " 'heart',\n",
       " 'woody',\n",
       " 'plots',\n",
       " 'buzz',\n",
       " 'circumstances',\n",
       " 'separate',\n",
       " 'buzz',\n",
       " 'woody',\n",
       " 'owner',\n",
       " 'duo',\n",
       " 'eventually',\n",
       " 'learns',\n",
       " 'put',\n",
       " 'aside',\n",
       " 'differences']"
      ]
     },
     "execution_count": 72,
     "metadata": {},
     "output_type": "execute_result"
    }
   ],
   "source": [
    "MoviesOverviews6[0]"
   ]
  },
  {
   "cell_type": "code",
   "execution_count": 73,
   "metadata": {},
   "outputs": [],
   "source": [
    "from gensim import corpora, models, similarities\n",
    "\n",
    "\n",
    "generador_elementos = (elemento for elemento in MoviesOverviews6)\n",
    "\n",
    "\n",
    "diccionario = corpora.Dictionary(generador_elementos)"
   ]
  },
  {
   "cell_type": "code",
   "execution_count": 74,
   "metadata": {},
   "outputs": [
    {
     "data": {
      "text/plain": [
       "'afraid'"
      ]
     },
     "execution_count": 74,
     "metadata": {},
     "output_type": "execute_result"
    }
   ],
   "source": [
    "diccionario[0]"
   ]
  },
  {
   "cell_type": "code",
   "execution_count": 85,
   "metadata": {},
   "outputs": [
    {
     "data": {
      "text/plain": [
       "85732"
      ]
     },
     "execution_count": 85,
     "metadata": {},
     "output_type": "execute_result"
    }
   ],
   "source": [
    "len(diccionario)"
   ]
  },
  {
   "cell_type": "code",
   "execution_count": 75,
   "metadata": {},
   "outputs": [],
   "source": [
    "ListaCorpus = []\n",
    "\n",
    "for i in range(len(MoviesOverviews6)):\n",
    "    ListaCorpus.append(diccionario.doc2bow(MoviesOverviews6[i]))\n",
    "\n",
    "tfidf = models.TfidfModel(ListaCorpus)\n",
    "\n",
    "corpus_tfidf = tfidf[ListaCorpus]"
   ]
  },
  {
   "cell_type": "code",
   "execution_count": 76,
   "metadata": {},
   "outputs": [
    {
     "data": {
      "text/plain": [
       "[(0, 1),\n",
       " (1, 3),\n",
       " (2, 1),\n",
       " (3, 1),\n",
       " (4, 1),\n",
       " (5, 3),\n",
       " (6, 1),\n",
       " (7, 1),\n",
       " (8, 1),\n",
       " (9, 1),\n",
       " (10, 1),\n",
       " (11, 1),\n",
       " (12, 1),\n",
       " (13, 1),\n",
       " (14, 1),\n",
       " (15, 1),\n",
       " (16, 1),\n",
       " (17, 1),\n",
       " (18, 1),\n",
       " (19, 1),\n",
       " (20, 1),\n",
       " (21, 1),\n",
       " (22, 1),\n",
       " (23, 1),\n",
       " (24, 1),\n",
       " (25, 1),\n",
       " (26, 3)]"
      ]
     },
     "execution_count": 76,
     "metadata": {},
     "output_type": "execute_result"
    }
   ],
   "source": [
    "ListaCorpus[0]"
   ]
  },
  {
   "cell_type": "code",
   "execution_count": 77,
   "metadata": {},
   "outputs": [
    {
     "data": {
      "text/plain": [
       "[(0, 0.1379029072983219),\n",
       " (1, 0.4018032585102472),\n",
       " (2, 0.14545949526549312),\n",
       " (3, 0.11857829332504596),\n",
       " (4, 0.09839819088364156),\n",
       " (5, 0.5067592862189615),\n",
       " (6, 0.12034813175227164),\n",
       " (7, 0.13113056668754908),\n",
       " (8, 0.12881258244052007),\n",
       " (9, 0.09621653861189555),\n",
       " (10, 0.12950015408982152),\n",
       " (11, 0.09433753012496303),\n",
       " (12, 0.09283613826239343),\n",
       " (13, 0.09993731495989275),\n",
       " (14, 0.22065119837935337),\n",
       " (15, 0.0777853533245957),\n",
       " (16, 0.11297850849011623),\n",
       " (17, 0.1241073369346856),\n",
       " (18, 0.09587307193268724),\n",
       " (19, 0.08233560893021072),\n",
       " (20, 0.1313194133587423),\n",
       " (21, 0.09193143802244946),\n",
       " (22, 0.10509854574389886),\n",
       " (23, 0.10721270222507849),\n",
       " (24, 0.1256642920280765),\n",
       " (25, 0.14734102602266172),\n",
       " (26, 0.4810540249503552)]"
      ]
     },
     "execution_count": 77,
     "metadata": {},
     "output_type": "execute_result"
    }
   ],
   "source": [
    "corpus_tfidf[0]"
   ]
  },
  {
   "cell_type": "code",
   "execution_count": 78,
   "metadata": {},
   "outputs": [],
   "source": [
    "index = similarities.MatrixSimilarity(corpus_tfidf)"
   ]
  },
  {
   "cell_type": "code",
   "execution_count": 79,
   "metadata": {},
   "outputs": [],
   "source": [
    "#@app.get('/recomendacion/{titulo}')\n",
    "def recomendacion(titulo:str):\n",
    "    titulo = titulo.title()\n",
    "    posicion = MoviesTitle.index(titulo)\n",
    "\n",
    "    similitudes = index[corpus_tfidf[posicion]]\n",
    "\n",
    "    documentos_similares_indices = similitudes.argsort()[::-1][1:6]\n",
    "\n",
    "    Titulos = []\n",
    "    for i in range(len(documentos_similares_indices)):\n",
    "        Titulos.append(MoviesTitle[documentos_similares_indices[i]])\n",
    "\n",
    "    return {'lista recomendada': Titulos}"
   ]
  },
  {
   "cell_type": "code",
   "execution_count": 80,
   "metadata": {},
   "outputs": [
    {
     "data": {
      "text/plain": [
       "{'lista recomendada': ['Toy Story 3',\n",
       "  'Toy Story 2',\n",
       "  'Small Fry',\n",
       "  'The 40 Year Old Virgin',\n",
       "  'Hot Splash']}"
      ]
     },
     "execution_count": 80,
     "metadata": {},
     "output_type": "execute_result"
    }
   ],
   "source": [
    "recomendacion(\"Toy Story\")"
   ]
  },
  {
   "cell_type": "code",
   "execution_count": 81,
   "metadata": {},
   "outputs": [
    {
     "data": {
      "text/plain": [
       "{'lista recomendada': ['From Mexico With Love',\n",
       "  'The First Day of the Rest of Your Life',\n",
       "  'Moll Flanders',\n",
       "  'Ladies They Talk About',\n",
       "  'The Star']}"
      ]
     },
     "execution_count": 81,
     "metadata": {},
     "output_type": "execute_result"
    }
   ],
   "source": [
    "recomendacion(\"pulp fiction\")"
   ]
  },
  {
   "cell_type": "code",
   "execution_count": 82,
   "metadata": {},
   "outputs": [
    {
     "data": {
      "text/plain": [
       "{'lista recomendada': [\"Andy Hardy's Blonde Trouble\",\n",
       "  'Toy Story 3',\n",
       "  'Andy Kaufman Plays Carnegie Hall',\n",
       "  'Superstar: The Life and Times of Andy Warhol',\n",
       "  'Andy Peters: Exclamation Mark Question Point']}"
      ]
     },
     "execution_count": 82,
     "metadata": {},
     "output_type": "execute_result"
    }
   ],
   "source": [
    "recomendacion(\"the 40 year old virgin\")"
   ]
  }
 ],
 "metadata": {
  "kernelspec": {
   "display_name": "Python 3",
   "language": "python",
   "name": "python3"
  },
  "language_info": {
   "codemirror_mode": {
    "name": "ipython",
    "version": 3
   },
   "file_extension": ".py",
   "mimetype": "text/x-python",
   "name": "python",
   "nbconvert_exporter": "python",
   "pygments_lexer": "ipython3",
   "version": "3.11.1"
  },
  "orig_nbformat": 4
 },
 "nbformat": 4,
 "nbformat_minor": 2
}
