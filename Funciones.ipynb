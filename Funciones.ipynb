{
 "cells": [
  {
   "cell_type": "code",
   "execution_count": 6,
   "metadata": {},
   "outputs": [],
   "source": [
    "import pandas as pd"
   ]
  },
  {
   "cell_type": "code",
   "execution_count": 7,
   "metadata": {},
   "outputs": [],
   "source": [
    "MoviesDataset = pd.read_csv(\"movies_dataset_final.csv\", sep=',')"
   ]
  },
  {
   "cell_type": "code",
   "execution_count": 8,
   "metadata": {},
   "outputs": [],
   "source": [
    "def cantidad_filmaciones_mes(mes):\n",
    "    mes = str(mes)\n",
    "    if len(mes)<2:\n",
    "        mes=\"0\"+mes\n",
    "    cantidad = 0\n",
    "    for i in range(0,len(MoviesDataset)):\n",
    "        if MoviesDataset['release_date'][i][5:7] == mes:\n",
    "            cantidad += 1\n",
    "    return f\"{cantidad} películas fueron estrenadas en el mes {mes}\""
   ]
  },
  {
   "cell_type": "code",
   "execution_count": 9,
   "metadata": {},
   "outputs": [],
   "source": [
    "def cantidad_filmaciones_dia(dia):\n",
    "    dia = str(dia)\n",
    "    if len(dia)<2:\n",
    "        dia=\"0\"+dia\n",
    "    cantidad = 0\n",
    "    for i in range(0,len(MoviesDataset)):\n",
    "        if MoviesDataset['release_date'][i][8:10] == dia:\n",
    "            cantidad += 1\n",
    "    return f\"{cantidad} películas fueron estrenadas en el dia {dia}\""
   ]
  },
  {
   "cell_type": "code",
   "execution_count": 10,
   "metadata": {},
   "outputs": [],
   "source": [
    "def score_titulo(titulo):\n",
    "    if titulo in list(MoviesDataset[\"title\"]):\n",
    "\n",
    "        pelicula = MoviesDataset[MoviesDataset['title'] == titulo]\n",
    "        anio_estreno = int(pelicula['release_year'])\n",
    "        score = float(pelicula['popularity'])\n",
    "\n",
    "        return f\"La película {titulo} fue estrenada en el año {anio_estreno} con un score/popularidad de {score}\"\n",
    "    else:\n",
    "        return f\"La película {titulo} no se encuentra en el registro\""
   ]
  },
  {
   "cell_type": "code",
   "execution_count": 11,
   "metadata": {},
   "outputs": [
    {
     "data": {
      "text/plain": [
       "'La película Toy Story fue estrenada en el año 1995 con un score/popularidad de 21.946943'"
      ]
     },
     "execution_count": 11,
     "metadata": {},
     "output_type": "execute_result"
    }
   ],
   "source": [
    "score_titulo(\"Toy Story\")"
   ]
  },
  {
   "cell_type": "code",
   "execution_count": 12,
   "metadata": {},
   "outputs": [
    {
     "data": {
      "text/plain": [
       "'La película Jumanji fue estrenada en el año 1995 con un score/popularidad de 17.015539'"
      ]
     },
     "execution_count": 12,
     "metadata": {},
     "output_type": "execute_result"
    }
   ],
   "source": [
    "score_titulo(\"Jumanji\")"
   ]
  },
  {
   "cell_type": "code",
   "execution_count": 13,
   "metadata": {},
   "outputs": [
    {
     "data": {
      "text/plain": [
       "'La película Jumanj no se encuentra en el registro'"
      ]
     },
     "execution_count": 13,
     "metadata": {},
     "output_type": "execute_result"
    }
   ],
   "source": [
    "score_titulo(\"Jumanj\")"
   ]
  },
  {
   "cell_type": "code",
   "execution_count": 14,
   "metadata": {},
   "outputs": [],
   "source": [
    "def votos_titulo(titulo):\n",
    "    # Filtrar la película por título\n",
    "    \n",
    "    if titulo in list(MoviesDataset[\"title\"]):\n",
    "\n",
    "        pelicula = MoviesDataset[MoviesDataset['title'] == titulo]\n",
    "        cantidad_votos = int(pelicula['vote_count'])\n",
    "        votos_promedio = float(pelicula['vote_average'])\n",
    "\n",
    "        if cantidad_votos < 2000:\n",
    "            return f\"La película {titulo} no tiene suficientes votos\"\n",
    "        else:\n",
    "            return f\"La película {titulo} tiene una cantidad de {cantidad_votos} votos con un puntaje promedio de {votos_promedio}\"\n",
    "    else:\n",
    "        return f\"La película {titulo} no se encuentra en el registro\""
   ]
  },
  {
   "cell_type": "code",
   "execution_count": 15,
   "metadata": {},
   "outputs": [
    {
     "data": {
      "text/plain": [
       "'La película Toy Story tiene una cantidad de 5415 votos con un puntaje promedio de 7.7'"
      ]
     },
     "execution_count": 15,
     "metadata": {},
     "output_type": "execute_result"
    }
   ],
   "source": [
    "votos_titulo(\"Toy Story\")"
   ]
  },
  {
   "cell_type": "code",
   "execution_count": 16,
   "metadata": {},
   "outputs": [
    {
     "data": {
      "text/plain": [
       "'La película Jumanji tiene una cantidad de 2413 votos con un puntaje promedio de 6.9'"
      ]
     },
     "execution_count": 16,
     "metadata": {},
     "output_type": "execute_result"
    }
   ],
   "source": [
    "votos_titulo(\"Jumanji\")"
   ]
  },
  {
   "cell_type": "code",
   "execution_count": 17,
   "metadata": {},
   "outputs": [
    {
     "data": {
      "text/plain": [
       "'La película Pulp Fiction tiene una cantidad de 8670 votos con un puntaje promedio de 8.3'"
      ]
     },
     "execution_count": 17,
     "metadata": {},
     "output_type": "execute_result"
    }
   ],
   "source": [
    "votos_titulo(\"Pulp Fiction\")"
   ]
  },
  {
   "cell_type": "code",
   "execution_count": 18,
   "metadata": {},
   "outputs": [],
   "source": [
    "def get_actor(nombre):\n",
    "    lista_peliculas = []\n",
    "    lista_retornos = []\n",
    "    exito = None\n",
    "    RetornoMax = 0\n",
    "    for i in range(0,len(MoviesDataset)):\n",
    "        if nombre in MoviesDataset[\"cast_names\"][i]:\n",
    "            lista_peliculas.append(MoviesDataset[\"title\"][i])\n",
    "            lista_retornos.append(MoviesDataset[\"return\"][i])\n",
    "            if MoviesDataset[\"return\"][i]>RetornoMax:\n",
    "                RetornoMax = MoviesDataset[\"return\"][i]\n",
    "                exito = MoviesDataset[\"title\"][i]\n",
    "        else:\n",
    "            continue\n",
    "    cantidad_peliculas = len(lista_peliculas)\n",
    "    retorno_promedio = sum(lista_retornos)/len(lista_retornos)\n",
    "    if len(lista_peliculas)>=1:\n",
    "        return f\"El actor {nombre} participó en {cantidad_peliculas} películas y su éxito fue la película {exito} con un retorno de {RetornoMax}, el promedio de retornos de sus películas fue de {retorno_promedio}\"\n",
    "    else:\n",
    "        return f\"No se registran peliculas para dicho actor\"\n",
    "\n",
    "        \n"
   ]
  },
  {
   "cell_type": "code",
   "execution_count": 19,
   "metadata": {},
   "outputs": [
    {
     "data": {
      "text/plain": [
       "'El actor Robin Williams participó en 82 películas y su éxito fue la película Good Will Hunting con un retorno de 22.5933435, el promedio de retornos de sus películas fue de 1.8986354146930744'"
      ]
     },
     "execution_count": 19,
     "metadata": {},
     "output_type": "execute_result"
    }
   ],
   "source": [
    "get_actor('Robin Williams')"
   ]
  },
  {
   "cell_type": "code",
   "execution_count": 20,
   "metadata": {},
   "outputs": [
    {
     "data": {
      "text/plain": [
       "'El actor Tom Hanks participó en 71 películas y su éxito fue la película Toy Story con un retorno de 12.4518011, el promedio de retornos de sus películas fue de 2.519006986692991'"
      ]
     },
     "execution_count": 20,
     "metadata": {},
     "output_type": "execute_result"
    }
   ],
   "source": [
    "get_actor(\"Tom Hanks\")"
   ]
  },
  {
   "cell_type": "code",
   "execution_count": 21,
   "metadata": {},
   "outputs": [],
   "source": [
    "def get_director(nombre):\n",
    "    \n",
    "    lista_peliculas = []\n",
    "    fecha_lanzamiento = []\n",
    "    retorno_ind = []\n",
    "    costo = []\n",
    "    ganancia = []\n",
    "    exito = None\n",
    "    RetornoMax = 0\n",
    "    for i in range(0,len(MoviesDataset)):\n",
    "        if nombre in MoviesDataset[\"crew_names\"][i]:\n",
    "            lista_peliculas.append(MoviesDataset[\"title\"][i])\n",
    "            fecha_lanzamiento.append(MoviesDataset[\"release_date\"][i])\n",
    "            retorno_ind.append(MoviesDataset[\"return\"][i])\n",
    "            costo.append(MoviesDataset[\"budget\"][i])\n",
    "            ganancia.append(MoviesDataset[\"revenue\"][i])\n",
    "            if MoviesDataset[\"return\"][i]>RetornoMax:\n",
    "                RetornoMax = MoviesDataset[\"return\"][i]\n",
    "                exito = MoviesDataset[\"title\"][i]\n",
    "        else:\n",
    "            continue\n",
    "    lista = pd.DataFrame({\"Nombre\":lista_peliculas, \"Release\":fecha_lanzamiento, \"Retorno\": retorno_ind, \"Costo\": costo, \"Ganancia\": ganancia})\n",
    "    listajson = lista.to_json(orient=\"records\")\n",
    "\n",
    "    return f\"El éxito del director {nombre} fue la película {exito} con un retorno de {RetornoMax} y su lista de películas fue la siguiente:\", listajson\n"
   ]
  },
  {
   "cell_type": "code",
   "execution_count": 26,
   "metadata": {},
   "outputs": [],
   "source": [
    "def get_director2(nombre_director):\n",
    "    \n",
    "    nombre_director = nombre_director.title()\n",
    "    indice_director = []\n",
    "    for indice, elemento in enumerate(MoviesDataset[\"crew_names\"]):\n",
    "        if nombre_director in MoviesDataset[indice]:\n",
    "            indice_director.append(indice)\n",
    "\n",
    "        retorno_total = MoviesDataset.loc[indice_director, \"return\"].sum()\n",
    "        titulo = MoviesDataset.loc[indice_director, \"title\"]\n",
    "        retorno_ind = MoviesDataset.loc[indice_director, \"return\"]\n",
    "        release = MoviesDataset.loc[indice_director, \"release_year\"]\n",
    "        costo = MoviesDataset.loc[indice_director, \"budget\"]\n",
    "        ganancia = MoviesDataset.loc[indice_director, \"revenue\"]\n",
    "    \n",
    "    return {'director':nombre_director, 'retorno_total_director':retorno_total, \n",
    "    'peliculas':titulo, 'anio':release, 'retorno_pelicula':retorno_ind, \n",
    "    'budget_pelicula':costo, 'revenue_pelicula':ganancia}\n",
    "\n"
   ]
  },
  {
   "cell_type": "code",
   "execution_count": 28,
   "metadata": {},
   "outputs": [],
   "source": [
    "def get_director(nombre_director: str):\n",
    "    \n",
    "    lista_peliculas = []\n",
    "    fecha_lanzamiento = []\n",
    "    retorno_ind = []\n",
    "    costo = []\n",
    "    ganancia = []\n",
    "    for i in range(0,len(MoviesDataset)):\n",
    "        if nombre_director in MoviesDataset[\"crew_names\"][i]:\n",
    "            lista_peliculas.append(MoviesDataset[\"title\"][i])\n",
    "            fecha_lanzamiento.append(MoviesDataset[\"release_date\"][i])\n",
    "            retorno_ind.append(MoviesDataset[\"return\"][i])\n",
    "            costo.append(MoviesDataset[\"budget\"][i])\n",
    "            ganancia.append(MoviesDataset[\"revenue\"][i])\n",
    "        else:\n",
    "            continue\n",
    "    \n",
    "    retorno_total= sum(retorno_ind)\n",
    "\n",
    "    diccionario = {\"Nombre\":lista_peliculas, \"Release\":fecha_lanzamiento, \"Retorno\": retorno_ind, \"Costo\": costo, \"Ganancia\": ganancia}\n",
    "\n",
    "    return {'director':nombre_director, 'retorno_total_director':retorno_total, \n",
    "    'peliculas':diccionario[\"Nombre\"], 'anio':diccionario[\"Release\"], 'retorno_pelicula':diccionario[\"Retorno\"], \n",
    "    'budget_pelicula':diccionario[\"Costo\"], 'revenue_pelicula':diccionario[\"Ganancia\"]}\n"
   ]
  },
  {
   "cell_type": "code",
   "execution_count": 29,
   "metadata": {},
   "outputs": [
    {
     "data": {
      "text/plain": [
       "{'director': 'Quentin Tarantino',\n",
       " 'retorno_total_director': 96.1673946245183,\n",
       " 'peliculas': ['Four Rooms',\n",
       "  'From Dusk Till Dawn',\n",
       "  'Natural Born Killers',\n",
       "  'Pulp Fiction',\n",
       "  'Killing Zoe',\n",
       "  'True Romance',\n",
       "  'Curdled',\n",
       "  'Reservoir Dogs',\n",
       "  'Jackie Brown',\n",
       "  \"God Said, 'Ha!'\",\n",
       "  'Kill Bill: Vol. 1',\n",
       "  'Kill Bill: Vol. 2',\n",
       "  'Past Midnight',\n",
       "  \"From Dusk Till Dawn 3: The Hangman's Daughter\",\n",
       "  'From Dusk Till Dawn 2: Texas Blood Money',\n",
       "  'Sin City',\n",
       "  'Daltry Calhoun',\n",
       "  'Hostel',\n",
       "  'A Personal Journey with Martin Scorsese Through American Movies',\n",
       "  'Hostel: Part II',\n",
       "  'Death Proof',\n",
       "  'Planet Terror',\n",
       "  'Hell Ride',\n",
       "  'Inglourious Basterds',\n",
       "  'Django Unchained',\n",
       "  'The Hateful Eight',\n",
       "  \"My Best Friend's Birthday\"],\n",
       " 'anio': ['1995-12-09',\n",
       "  '1996-01-19',\n",
       "  '1994-08-25',\n",
       "  '1994-09-10',\n",
       "  '1993-10-01',\n",
       "  '1993-09-09',\n",
       "  '1996-09-06',\n",
       "  '1992-09-02',\n",
       "  '1997-12-24',\n",
       "  '1998-05-14',\n",
       "  '2003-10-10',\n",
       "  '2004-04-16',\n",
       "  '1991-01-01',\n",
       "  '1999-10-30',\n",
       "  '1999-03-16',\n",
       "  '2005-04-01',\n",
       "  '2005-09-25',\n",
       "  '2005-01-06',\n",
       "  '1995-05-21',\n",
       "  '2007-06-08',\n",
       "  '2007-05-21',\n",
       "  '2007-04-06',\n",
       "  '2008-08-08',\n",
       "  '2009-08-18',\n",
       "  '2012-12-25',\n",
       "  '2015-12-25',\n",
       "  '1987-01-01'],\n",
       " 'retorno_pelicula': [1.075,\n",
       "  1.359821894736842,\n",
       "  1.4789048823529412,\n",
       "  26.74109525,\n",
       "  0.2793073333333333,\n",
       "  0.98252408,\n",
       "  0.0215739130434782,\n",
       "  12.217505833333334,\n",
       "  3.306096833333333,\n",
       "  0.0,\n",
       "  6.031633333333334,\n",
       "  5.071982033333334,\n",
       "  0.0,\n",
       "  0.0,\n",
       "  0.0,\n",
       "  3.9683455,\n",
       "  0.0,\n",
       "  16.787277916666667,\n",
       "  0.0,\n",
       "  3.4921099019607844,\n",
       "  1.00151588,\n",
       "  0.0,\n",
       "  0.0,\n",
       "  4.559015,\n",
       "  4.25368238,\n",
       "  3.5400026590909093,\n",
       "  0.0],\n",
       " 'budget_pelicula': [4000000.0,\n",
       "  19000000.0,\n",
       "  34000000.0,\n",
       "  8000000.0,\n",
       "  1500000.0,\n",
       "  12500000.0,\n",
       "  2300000.0,\n",
       "  1200000.0,\n",
       "  12000000.0,\n",
       "  0.0,\n",
       "  30000000.0,\n",
       "  30000000.0,\n",
       "  0.0,\n",
       "  5000000.0,\n",
       "  5000000.0,\n",
       "  40000000.0,\n",
       "  3000000.0,\n",
       "  4800000.0,\n",
       "  0.0,\n",
       "  10200000.0,\n",
       "  25000000.0,\n",
       "  0.0,\n",
       "  0.0,\n",
       "  70000000.0,\n",
       "  100000000.0,\n",
       "  44000000.0,\n",
       "  0.0],\n",
       " 'revenue_pelicula': [4300000.0,\n",
       "  25836616.0,\n",
       "  50282766.0,\n",
       "  213928762.0,\n",
       "  418961.0,\n",
       "  12281551.0,\n",
       "  49620.0,\n",
       "  14661007.0,\n",
       "  39673162.0,\n",
       "  0.0,\n",
       "  180949000.0,\n",
       "  152159461.0,\n",
       "  0.0,\n",
       "  0.0,\n",
       "  0.0,\n",
       "  158733820.0,\n",
       "  0.0,\n",
       "  80578934.0,\n",
       "  0.0,\n",
       "  35619521.0,\n",
       "  25037897.0,\n",
       "  0.0,\n",
       "  194287.0,\n",
       "  319131050.0,\n",
       "  425368238.0,\n",
       "  155760117.0,\n",
       "  0.0]}"
      ]
     },
     "execution_count": 29,
     "metadata": {},
     "output_type": "execute_result"
    }
   ],
   "source": [
    "get_director(\"Quentin Tarantino\")"
   ]
  },
  {
   "cell_type": "code",
   "execution_count": 33,
   "metadata": {},
   "outputs": [],
   "source": [
    "name = \"robert de niro\""
   ]
  },
  {
   "cell_type": "code",
   "execution_count": 34,
   "metadata": {},
   "outputs": [],
   "source": [
    "name = name.title()"
   ]
  },
  {
   "cell_type": "code",
   "execution_count": 35,
   "metadata": {},
   "outputs": [
    {
     "data": {
      "text/plain": [
       "'Robert De Niro'"
      ]
     },
     "execution_count": 35,
     "metadata": {},
     "output_type": "execute_result"
    }
   ],
   "source": [
    "name"
   ]
  }
 ],
 "metadata": {
  "kernelspec": {
   "display_name": "Python 3",
   "language": "python",
   "name": "python3"
  },
  "language_info": {
   "codemirror_mode": {
    "name": "ipython",
    "version": 3
   },
   "file_extension": ".py",
   "mimetype": "text/x-python",
   "name": "python",
   "nbconvert_exporter": "python",
   "pygments_lexer": "ipython3",
   "version": "3.11.1"
  },
  "orig_nbformat": 4
 },
 "nbformat": 4,
 "nbformat_minor": 2
}
