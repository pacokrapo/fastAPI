{
 "cells": [
  {
   "cell_type": "code",
   "execution_count": 5,
   "metadata": {},
   "outputs": [],
   "source": [
    "import pandas as pd"
   ]
  },
  {
   "cell_type": "code",
   "execution_count": 6,
   "metadata": {},
   "outputs": [],
   "source": [
    "MoviesDataset = pd.read_csv(\"moviesdatasetfinal.csv\", sep=',')"
   ]
  },
  {
   "cell_type": "code",
   "execution_count": 8,
   "metadata": {},
   "outputs": [],
   "source": [
    "def cantidad_filmaciones_mes(mes):\n",
    "    mes = str(mes)\n",
    "    if len(mes)<2:\n",
    "        mes=\"0\"+mes\n",
    "    cantidad = 0\n",
    "    for i in range(0,len(MoviesDataset)):\n",
    "        if MoviesDataset['release_date'][i][5:7] == mes:\n",
    "            cantidad += 1\n",
    "    return f\"{cantidad} películas fueron estrenadas en el mes {mes}\""
   ]
  },
  {
   "cell_type": "code",
   "execution_count": 9,
   "metadata": {},
   "outputs": [],
   "source": [
    "def cantidad_filmaciones_dia(dia):\n",
    "    dia = str(dia)\n",
    "    if len(dia)<2:\n",
    "        dia=\"0\"+dia\n",
    "    cantidad = 0\n",
    "    for i in range(0,len(MoviesDataset)):\n",
    "        if MoviesDataset['release_date'][i][8:10] == dia:\n",
    "            cantidad += 1\n",
    "    return f\"{cantidad} películas fueron estrenadas en el dia {dia}\""
   ]
  },
  {
   "cell_type": "code",
   "execution_count": 10,
   "metadata": {},
   "outputs": [],
   "source": [
    "def score_titulo(titulo):\n",
    "    if titulo in list(MoviesDataset[\"title\"]):\n",
    "\n",
    "        pelicula = MoviesDataset[MoviesDataset['title'] == titulo]\n",
    "        anio_estreno = int(pelicula['release_year'])\n",
    "        score = float(pelicula['popularity'])\n",
    "\n",
    "        return f\"La película {titulo} fue estrenada en el año {anio_estreno} con un score/popularidad de {score}\"\n",
    "    else:\n",
    "        return f\"La película {titulo} no se encuentra en el registro\""
   ]
  },
  {
   "cell_type": "code",
   "execution_count": 11,
   "metadata": {},
   "outputs": [
    {
     "data": {
      "text/plain": [
       "'La película Toy Story fue estrenada en el año 1995 con un score/popularidad de 21.946943'"
      ]
     },
     "execution_count": 11,
     "metadata": {},
     "output_type": "execute_result"
    }
   ],
   "source": [
    "score_titulo(\"Toy Story\")"
   ]
  },
  {
   "cell_type": "code",
   "execution_count": 12,
   "metadata": {},
   "outputs": [
    {
     "data": {
      "text/plain": [
       "'La película Jumanji fue estrenada en el año 1995 con un score/popularidad de 17.015539'"
      ]
     },
     "execution_count": 12,
     "metadata": {},
     "output_type": "execute_result"
    }
   ],
   "source": [
    "score_titulo(\"Jumanji\")"
   ]
  },
  {
   "cell_type": "code",
   "execution_count": 13,
   "metadata": {},
   "outputs": [
    {
     "data": {
      "text/plain": [
       "'La película Jumanj no se encuentra en el registro'"
      ]
     },
     "execution_count": 13,
     "metadata": {},
     "output_type": "execute_result"
    }
   ],
   "source": [
    "score_titulo(\"Jumanj\")"
   ]
  },
  {
   "cell_type": "code",
   "execution_count": 23,
   "metadata": {},
   "outputs": [],
   "source": [
    "def votos_titulo(titulo):\n",
    "    # Filtrar la película por título\n",
    "    \n",
    "    if titulo in list(MoviesDataset[\"title\"]):\n",
    "\n",
    "        pelicula = MoviesDataset[MoviesDataset['title'] == titulo]\n",
    "        cantidad_votos = int(pelicula['vote_count'])\n",
    "        votos_promedio = float(pelicula['vote_average'])\n",
    "\n",
    "        if cantidad_votos < 2000:\n",
    "            return f\"La película {titulo} no tiene suficientes votos\"\n",
    "        else:\n",
    "            return f\"La película {titulo} tiene una cantidad de {cantidad_votos} votos con un puntaje promedio de {votos_promedio}\"\n",
    "    else:\n",
    "        return f\"La película {titulo} no se encuentra en el registro\""
   ]
  },
  {
   "cell_type": "code",
   "execution_count": 24,
   "metadata": {},
   "outputs": [
    {
     "data": {
      "text/plain": [
       "'La película Toy Story tiene una cantidad de 5415 votos con un puntaje promedio de 7.7'"
      ]
     },
     "execution_count": 24,
     "metadata": {},
     "output_type": "execute_result"
    }
   ],
   "source": [
    "votos_titulo(\"Toy Story\")"
   ]
  },
  {
   "cell_type": "code",
   "execution_count": 25,
   "metadata": {},
   "outputs": [
    {
     "data": {
      "text/plain": [
       "'La película Jumanji tiene una cantidad de 2413 votos con un puntaje promedio de 6.9'"
      ]
     },
     "execution_count": 25,
     "metadata": {},
     "output_type": "execute_result"
    }
   ],
   "source": [
    "votos_titulo(\"Jumanji\")"
   ]
  },
  {
   "cell_type": "code",
   "execution_count": 26,
   "metadata": {},
   "outputs": [
    {
     "data": {
      "text/plain": [
       "'La película Pulp Fiction tiene una cantidad de 8670 votos con un puntaje promedio de 8.3'"
      ]
     },
     "execution_count": 26,
     "metadata": {},
     "output_type": "execute_result"
    }
   ],
   "source": [
    "votos_titulo(\"Pulp Fiction\")"
   ]
  },
  {
   "cell_type": "code",
   "execution_count": 18,
   "metadata": {},
   "outputs": [],
   "source": [
    "def get_actor(nombre):\n",
    "    lista_peliculas = []\n",
    "    lista_retornos = []\n",
    "    exito = None\n",
    "    RetornoMax = 0\n",
    "    for i in range(0,len(MoviesDataset)):\n",
    "        if nombre in MoviesDataset[\"cast_names\"][i]:\n",
    "            lista_peliculas.append(MoviesDataset[\"title\"][i])\n",
    "            lista_retornos.append(MoviesDataset[\"return\"][i])\n",
    "            if MoviesDataset[\"return\"][i]>RetornoMax:\n",
    "                RetornoMax = MoviesDataset[\"return\"][i]\n",
    "                exito = MoviesDataset[\"title\"][i]\n",
    "        else:\n",
    "            continue\n",
    "    cantidad_peliculas = len(lista_peliculas)\n",
    "    retorno_promedio = sum(lista_retornos)/len(lista_retornos)\n",
    "    if len(lista_peliculas)>=1:\n",
    "        return f\"El actor {nombre} participó en {cantidad_peliculas} películas y su éxito fue la película {exito} con un retorno de {RetornoMax}, el promedio de retornos de sus películas fue de {retorno_promedio}\"\n",
    "    else:\n",
    "        return f\"No se registran peliculas para dicho actor\"\n",
    "\n",
    "        \n"
   ]
  },
  {
   "cell_type": "code",
   "execution_count": 19,
   "metadata": {},
   "outputs": [
    {
     "data": {
      "text/plain": [
       "'El actor Robin Williams participó en 82 películas y su éxito fue la película Good Will Hunting con un retorno de 22.5933435, el promedio de retornos de sus películas fue de 1.8986354146930744'"
      ]
     },
     "execution_count": 19,
     "metadata": {},
     "output_type": "execute_result"
    }
   ],
   "source": [
    "get_actor('Robin Williams')"
   ]
  },
  {
   "cell_type": "code",
   "execution_count": 20,
   "metadata": {},
   "outputs": [
    {
     "data": {
      "text/plain": [
       "'El actor Tom Hanks participó en 71 películas y su éxito fue la película Toy Story con un retorno de 12.4518011, el promedio de retornos de sus películas fue de 2.519006986692991'"
      ]
     },
     "execution_count": 20,
     "metadata": {},
     "output_type": "execute_result"
    }
   ],
   "source": [
    "get_actor(\"Tom Hanks\")"
   ]
  },
  {
   "cell_type": "code",
   "execution_count": 21,
   "metadata": {},
   "outputs": [],
   "source": [
    "def get_director(nombre):\n",
    "    lista_peliculas = []\n",
    "    fecha_lanzamiento = []\n",
    "    retorno_ind = []\n",
    "    costo = []\n",
    "    ganancia = []\n",
    "    exito = None\n",
    "    RetornoMax = 0\n",
    "    for i in range(0,len(MoviesDataset)):\n",
    "        if nombre in MoviesDataset[\"crew_names\"][i]:\n",
    "            lista_peliculas.append(MoviesDataset[\"title\"][i])\n",
    "            fecha_lanzamiento.append(MoviesDataset[\"release_date\"][i])\n",
    "            retorno_ind.append(MoviesDataset[\"return\"][i])\n",
    "            costo.append(MoviesDataset[\"budget\"][i])\n",
    "            ganancia.append(MoviesDataset[\"revenue\"][i])\n",
    "            if MoviesDataset[\"return\"][i]>RetornoMax:\n",
    "                RetornoMax = MoviesDataset[\"return\"][i]\n",
    "                exito = MoviesDataset[\"title\"][i]\n",
    "        else:\n",
    "            continue\n",
    "    lista = pd.DataFrame({\"Nombre\":lista_peliculas, \"Release\":fecha_lanzamiento, \"Retorno\": retorno_ind, \"Costo\": costo, \"Ganancia\": ganancia})\n",
    "    listajson = lista.to_json(orient=\"records\")\n",
    "\n",
    "    return f\"El éxito del director {nombre} fue la película {exito} con un retorno de {RetornoMax} y su lista de películas fue la siguiente:\", listajson\n"
   ]
  },
  {
   "cell_type": "code",
   "execution_count": 22,
   "metadata": {},
   "outputs": [
    {
     "data": {
      "text/plain": [
       "('El éxito del director Quentin Tarantino fue la película Pulp Fiction con un retorno de 26.74109525 y su lista de películas fue la siguiente:',\n",
       " '[{\"Nombre\":\"Four Rooms\",\"Release\":\"1995-12-09\",\"Retorno\":1.075,\"Costo\":4000000.0,\"Ganancia\":4300000.0},{\"Nombre\":\"From Dusk Till Dawn\",\"Release\":\"1996-01-19\",\"Retorno\":1.3598218947,\"Costo\":19000000.0,\"Ganancia\":25836616.0},{\"Nombre\":\"Natural Born Killers\",\"Release\":\"1994-08-25\",\"Retorno\":1.4789048824,\"Costo\":34000000.0,\"Ganancia\":50282766.0},{\"Nombre\":\"Pulp Fiction\",\"Release\":\"1994-09-10\",\"Retorno\":26.74109525,\"Costo\":8000000.0,\"Ganancia\":213928762.0},{\"Nombre\":\"Killing Zoe\",\"Release\":\"1993-10-01\",\"Retorno\":0.2793073333,\"Costo\":1500000.0,\"Ganancia\":418961.0},{\"Nombre\":\"True Romance\",\"Release\":\"1993-09-09\",\"Retorno\":0.98252408,\"Costo\":12500000.0,\"Ganancia\":12281551.0},{\"Nombre\":\"Curdled\",\"Release\":\"1996-09-06\",\"Retorno\":0.021573913,\"Costo\":2300000.0,\"Ganancia\":49620.0},{\"Nombre\":\"Reservoir Dogs\",\"Release\":\"1992-09-02\",\"Retorno\":12.2175058333,\"Costo\":1200000.0,\"Ganancia\":14661007.0},{\"Nombre\":\"Jackie Brown\",\"Release\":\"1997-12-24\",\"Retorno\":3.3060968333,\"Costo\":12000000.0,\"Ganancia\":39673162.0},{\"Nombre\":\"God Said, \\'Ha!\\'\",\"Release\":\"1998-05-14\",\"Retorno\":0.0,\"Costo\":0.0,\"Ganancia\":0.0},{\"Nombre\":\"Kill Bill: Vol. 1\",\"Release\":\"2003-10-10\",\"Retorno\":6.0316333333,\"Costo\":30000000.0,\"Ganancia\":180949000.0},{\"Nombre\":\"Kill Bill: Vol. 2\",\"Release\":\"2004-04-16\",\"Retorno\":5.0719820333,\"Costo\":30000000.0,\"Ganancia\":152159461.0},{\"Nombre\":\"Past Midnight\",\"Release\":\"1991-01-01\",\"Retorno\":0.0,\"Costo\":0.0,\"Ganancia\":0.0},{\"Nombre\":\"From Dusk Till Dawn 3: The Hangman\\'s Daughter\",\"Release\":\"1999-10-30\",\"Retorno\":0.0,\"Costo\":5000000.0,\"Ganancia\":0.0},{\"Nombre\":\"From Dusk Till Dawn 2: Texas Blood Money\",\"Release\":\"1999-03-16\",\"Retorno\":0.0,\"Costo\":5000000.0,\"Ganancia\":0.0},{\"Nombre\":\"Sin City\",\"Release\":\"2005-04-01\",\"Retorno\":3.9683455,\"Costo\":40000000.0,\"Ganancia\":158733820.0},{\"Nombre\":\"Daltry Calhoun\",\"Release\":\"2005-09-25\",\"Retorno\":0.0,\"Costo\":3000000.0,\"Ganancia\":0.0},{\"Nombre\":\"Hostel\",\"Release\":\"2005-01-06\",\"Retorno\":16.7872779167,\"Costo\":4800000.0,\"Ganancia\":80578934.0},{\"Nombre\":\"A Personal Journey with Martin Scorsese Through American Movies\",\"Release\":\"1995-05-21\",\"Retorno\":0.0,\"Costo\":0.0,\"Ganancia\":0.0},{\"Nombre\":\"Hostel: Part II\",\"Release\":\"2007-06-08\",\"Retorno\":3.492109902,\"Costo\":10200000.0,\"Ganancia\":35619521.0},{\"Nombre\":\"Death Proof\",\"Release\":\"2007-05-21\",\"Retorno\":1.00151588,\"Costo\":25000000.0,\"Ganancia\":25037897.0},{\"Nombre\":\"Planet Terror\",\"Release\":\"2007-04-06\",\"Retorno\":0.0,\"Costo\":0.0,\"Ganancia\":0.0},{\"Nombre\":\"Hell Ride\",\"Release\":\"2008-08-08\",\"Retorno\":0.0,\"Costo\":0.0,\"Ganancia\":194287.0},{\"Nombre\":\"Inglourious Basterds\",\"Release\":\"2009-08-18\",\"Retorno\":4.559015,\"Costo\":70000000.0,\"Ganancia\":319131050.0},{\"Nombre\":\"Django Unchained\",\"Release\":\"2012-12-25\",\"Retorno\":4.25368238,\"Costo\":100000000.0,\"Ganancia\":425368238.0},{\"Nombre\":\"The Hateful Eight\",\"Release\":\"2015-12-25\",\"Retorno\":3.5400026591,\"Costo\":44000000.0,\"Ganancia\":155760117.0},{\"Nombre\":\"My Best Friend\\'s Birthday\",\"Release\":\"1987-01-01\",\"Retorno\":0.0,\"Costo\":0.0,\"Ganancia\":0.0}]')"
      ]
     },
     "execution_count": 22,
     "metadata": {},
     "output_type": "execute_result"
    }
   ],
   "source": [
    "get_director(\"Quentin Tarantino\")"
   ]
  }
 ],
 "metadata": {
  "kernelspec": {
   "display_name": "Python 3",
   "language": "python",
   "name": "python3"
  },
  "language_info": {
   "codemirror_mode": {
    "name": "ipython",
    "version": 3
   },
   "file_extension": ".py",
   "mimetype": "text/x-python",
   "name": "python",
   "nbconvert_exporter": "python",
   "pygments_lexer": "ipython3",
   "version": "3.11.1"
  },
  "orig_nbformat": 4
 },
 "nbformat": 4,
 "nbformat_minor": 2
}
