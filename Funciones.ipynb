{
 "cells": [
  {
   "cell_type": "code",
   "execution_count": 6,
   "metadata": {},
   "outputs": [],
   "source": [
    "import pandas as pd"
   ]
  },
  {
   "cell_type": "code",
   "execution_count": 7,
   "metadata": {},
   "outputs": [],
   "source": [
    "MoviesDataset = pd.read_csv(\"movies_dataset_final.csv\", sep=',')"
   ]
  },
  {
   "cell_type": "code",
   "execution_count": 8,
   "metadata": {},
   "outputs": [],
   "source": [
    "def cantidad_filmaciones_mes(mes):\n",
    "    mes = str(mes)\n",
    "    if len(mes)<2:\n",
    "        mes=\"0\"+mes\n",
    "    cantidad = 0\n",
    "    for i in range(0,len(MoviesDataset)):\n",
    "        if MoviesDataset['release_date'][i][5:7] == mes:\n",
    "            cantidad += 1\n",
    "    return f\"{cantidad} películas fueron estrenadas en el mes {mes}\""
   ]
  },
  {
   "cell_type": "code",
   "execution_count": 9,
   "metadata": {},
   "outputs": [],
   "source": [
    "def cantidad_filmaciones_dia(dia):\n",
    "    dia = str(dia)\n",
    "    if len(dia)<2:\n",
    "        dia=\"0\"+dia\n",
    "    cantidad = 0\n",
    "    for i in range(0,len(MoviesDataset)):\n",
    "        if MoviesDataset['release_date'][i][8:10] == dia:\n",
    "            cantidad += 1\n",
    "    return f\"{cantidad} películas fueron estrenadas en el dia {dia}\""
   ]
  },
  {
   "cell_type": "code",
   "execution_count": 10,
   "metadata": {},
   "outputs": [],
   "source": [
    "def score_titulo(titulo):\n",
    "    if titulo in list(MoviesDataset[\"title\"]):\n",
    "\n",
    "        pelicula = MoviesDataset[MoviesDataset['title'] == titulo]\n",
    "        anio_estreno = int(pelicula['release_year'])\n",
    "        score = float(pelicula['popularity'])\n",
    "\n",
    "        return f\"La película {titulo} fue estrenada en el año {anio_estreno} con un score/popularidad de {score}\"\n",
    "    else:\n",
    "        return f\"La película {titulo} no se encuentra en el registro\""
   ]
  },
  {
   "cell_type": "code",
   "execution_count": 11,
   "metadata": {},
   "outputs": [
    {
     "data": {
      "text/plain": [
       "'La película Toy Story fue estrenada en el año 1995 con un score/popularidad de 21.946943'"
      ]
     },
     "execution_count": 11,
     "metadata": {},
     "output_type": "execute_result"
    }
   ],
   "source": [
    "score_titulo(\"Toy Story\")"
   ]
  },
  {
   "cell_type": "code",
   "execution_count": 12,
   "metadata": {},
   "outputs": [
    {
     "data": {
      "text/plain": [
       "'La película Jumanji fue estrenada en el año 1995 con un score/popularidad de 17.015539'"
      ]
     },
     "execution_count": 12,
     "metadata": {},
     "output_type": "execute_result"
    }
   ],
   "source": [
    "score_titulo(\"Jumanji\")"
   ]
  },
  {
   "cell_type": "code",
   "execution_count": 13,
   "metadata": {},
   "outputs": [
    {
     "data": {
      "text/plain": [
       "'La película Jumanj no se encuentra en el registro'"
      ]
     },
     "execution_count": 13,
     "metadata": {},
     "output_type": "execute_result"
    }
   ],
   "source": [
    "score_titulo(\"Jumanj\")"
   ]
  },
  {
   "cell_type": "code",
   "execution_count": 14,
   "metadata": {},
   "outputs": [],
   "source": [
    "def votos_titulo(titulo):\n",
    "    # Filtrar la película por título\n",
    "    \n",
    "    if titulo in list(MoviesDataset[\"title\"]):\n",
    "\n",
    "        pelicula = MoviesDataset[MoviesDataset['title'] == titulo]\n",
    "        cantidad_votos = int(pelicula['vote_count'])\n",
    "        votos_promedio = float(pelicula['vote_average'])\n",
    "\n",
    "        if cantidad_votos < 2000:\n",
    "            return f\"La película {titulo} no tiene suficientes votos\"\n",
    "        else:\n",
    "            return f\"La película {titulo} tiene una cantidad de {cantidad_votos} votos con un puntaje promedio de {votos_promedio}\"\n",
    "    else:\n",
    "        return f\"La película {titulo} no se encuentra en el registro\""
   ]
  },
  {
   "cell_type": "code",
   "execution_count": 15,
   "metadata": {},
   "outputs": [
    {
     "data": {
      "text/plain": [
       "'La película Toy Story tiene una cantidad de 5415 votos con un puntaje promedio de 7.7'"
      ]
     },
     "execution_count": 15,
     "metadata": {},
     "output_type": "execute_result"
    }
   ],
   "source": [
    "votos_titulo(\"Toy Story\")"
   ]
  },
  {
   "cell_type": "code",
   "execution_count": 16,
   "metadata": {},
   "outputs": [
    {
     "data": {
      "text/plain": [
       "'La película Jumanji tiene una cantidad de 2413 votos con un puntaje promedio de 6.9'"
      ]
     },
     "execution_count": 16,
     "metadata": {},
     "output_type": "execute_result"
    }
   ],
   "source": [
    "votos_titulo(\"Jumanji\")"
   ]
  },
  {
   "cell_type": "code",
   "execution_count": 17,
   "metadata": {},
   "outputs": [
    {
     "data": {
      "text/plain": [
       "'La película Pulp Fiction tiene una cantidad de 8670 votos con un puntaje promedio de 8.3'"
      ]
     },
     "execution_count": 17,
     "metadata": {},
     "output_type": "execute_result"
    }
   ],
   "source": [
    "votos_titulo(\"Pulp Fiction\")"
   ]
  },
  {
   "cell_type": "code",
   "execution_count": 18,
   "metadata": {},
   "outputs": [],
   "source": [
    "def get_actor(nombre):\n",
    "    lista_peliculas = []\n",
    "    lista_retornos = []\n",
    "    exito = None\n",
    "    RetornoMax = 0\n",
    "    for i in range(0,len(MoviesDataset)):\n",
    "        if nombre in MoviesDataset[\"cast_names\"][i]:\n",
    "            lista_peliculas.append(MoviesDataset[\"title\"][i])\n",
    "            lista_retornos.append(MoviesDataset[\"return\"][i])\n",
    "            if MoviesDataset[\"return\"][i]>RetornoMax:\n",
    "                RetornoMax = MoviesDataset[\"return\"][i]\n",
    "                exito = MoviesDataset[\"title\"][i]\n",
    "        else:\n",
    "            continue\n",
    "    cantidad_peliculas = len(lista_peliculas)\n",
    "    retorno_promedio = sum(lista_retornos)/len(lista_retornos)\n",
    "    if len(lista_peliculas)>=1:\n",
    "        return f\"El actor {nombre} participó en {cantidad_peliculas} películas y su éxito fue la película {exito} con un retorno de {RetornoMax}, el promedio de retornos de sus películas fue de {retorno_promedio}\"\n",
    "    else:\n",
    "        return f\"No se registran peliculas para dicho actor\"\n",
    "\n",
    "        \n"
   ]
  },
  {
   "cell_type": "code",
   "execution_count": 19,
   "metadata": {},
   "outputs": [
    {
     "data": {
      "text/plain": [
       "'El actor Robin Williams participó en 82 películas y su éxito fue la película Good Will Hunting con un retorno de 22.5933435, el promedio de retornos de sus películas fue de 1.8986354146930744'"
      ]
     },
     "execution_count": 19,
     "metadata": {},
     "output_type": "execute_result"
    }
   ],
   "source": [
    "get_actor('Robin Williams')"
   ]
  },
  {
   "cell_type": "code",
   "execution_count": 20,
   "metadata": {},
   "outputs": [
    {
     "data": {
      "text/plain": [
       "'El actor Tom Hanks participó en 71 películas y su éxito fue la película Toy Story con un retorno de 12.4518011, el promedio de retornos de sus películas fue de 2.519006986692991'"
      ]
     },
     "execution_count": 20,
     "metadata": {},
     "output_type": "execute_result"
    }
   ],
   "source": [
    "get_actor(\"Tom Hanks\")"
   ]
  },
  {
   "cell_type": "code",
   "execution_count": 21,
   "metadata": {},
   "outputs": [],
   "source": [
    "def get_director(nombre):\n",
    "    \n",
    "    lista_peliculas = []\n",
    "    fecha_lanzamiento = []\n",
    "    retorno_ind = []\n",
    "    costo = []\n",
    "    ganancia = []\n",
    "    exito = None\n",
    "    RetornoMax = 0\n",
    "    for i in range(0,len(MoviesDataset)):\n",
    "        if nombre in MoviesDataset[\"crew_names\"][i]:\n",
    "            lista_peliculas.append(MoviesDataset[\"title\"][i])\n",
    "            fecha_lanzamiento.append(MoviesDataset[\"release_date\"][i])\n",
    "            retorno_ind.append(MoviesDataset[\"return\"][i])\n",
    "            costo.append(MoviesDataset[\"budget\"][i])\n",
    "            ganancia.append(MoviesDataset[\"revenue\"][i])\n",
    "            if MoviesDataset[\"return\"][i]>RetornoMax:\n",
    "                RetornoMax = MoviesDataset[\"return\"][i]\n",
    "                exito = MoviesDataset[\"title\"][i]\n",
    "        else:\n",
    "            continue\n",
    "    lista = pd.DataFrame({\"Nombre\":lista_peliculas, \"Release\":fecha_lanzamiento, \"Retorno\": retorno_ind, \"Costo\": costo, \"Ganancia\": ganancia})\n",
    "    listajson = lista.to_json(orient=\"records\")\n",
    "\n",
    "    return f\"El éxito del director {nombre} fue la película {exito} con un retorno de {RetornoMax} y su lista de películas fue la siguiente:\", listajson\n"
   ]
  },
  {
   "cell_type": "code",
   "execution_count": 26,
   "metadata": {},
   "outputs": [],
   "source": [
    "def get_director2(nombre_director):\n",
    "    \n",
    "    nombre_director = nombre_director.title()\n",
    "    indice_director = []\n",
    "    for indice, elemento in enumerate(MoviesDataset[\"crew_names\"]):\n",
    "        if nombre_director in MoviesDataset[indice]:\n",
    "            indice_director.append(indice)\n",
    "\n",
    "        retorno_total = MoviesDataset.loc[indice_director, \"return\"].sum()\n",
    "        titulo = MoviesDataset.loc[indice_director, \"title\"]\n",
    "        retorno_ind = MoviesDataset.loc[indice_director, \"return\"]\n",
    "        release = MoviesDataset.loc[indice_director, \"release_year\"]\n",
    "        costo = MoviesDataset.loc[indice_director, \"budget\"]\n",
    "        ganancia = MoviesDataset.loc[indice_director, \"revenue\"]\n",
    "    \n",
    "    return {'director':nombre_director, 'retorno_total_director':retorno_total, \n",
    "    'peliculas':titulo, 'anio':release, 'retorno_pelicula':retorno_ind, \n",
    "    'budget_pelicula':costo, 'revenue_pelicula':ganancia}\n",
    "\n"
   ]
  },
  {
   "cell_type": "code",
   "execution_count": 27,
   "metadata": {},
   "outputs": [
    {
     "ename": "KeyError",
     "evalue": "0",
     "output_type": "error",
     "traceback": [
      "\u001b[1;31m---------------------------------------------------------------------------\u001b[0m",
      "\u001b[1;31mKeyError\u001b[0m                                  Traceback (most recent call last)",
      "File \u001b[1;32mc:\\Users\\Windows\\AppData\\Local\\Programs\\Python\\Python311\\Lib\\site-packages\\pandas\\core\\indexes\\base.py:3802\u001b[0m, in \u001b[0;36mIndex.get_loc\u001b[1;34m(self, key, method, tolerance)\u001b[0m\n\u001b[0;32m   3801\u001b[0m \u001b[39mtry\u001b[39;00m:\n\u001b[1;32m-> 3802\u001b[0m     \u001b[39mreturn\u001b[39;00m \u001b[39mself\u001b[39;49m\u001b[39m.\u001b[39;49m_engine\u001b[39m.\u001b[39;49mget_loc(casted_key)\n\u001b[0;32m   3803\u001b[0m \u001b[39mexcept\u001b[39;00m \u001b[39mKeyError\u001b[39;00m \u001b[39mas\u001b[39;00m err:\n",
      "File \u001b[1;32mc:\\Users\\Windows\\AppData\\Local\\Programs\\Python\\Python311\\Lib\\site-packages\\pandas\\_libs\\index.pyx:138\u001b[0m, in \u001b[0;36mpandas._libs.index.IndexEngine.get_loc\u001b[1;34m()\u001b[0m\n",
      "File \u001b[1;32mc:\\Users\\Windows\\AppData\\Local\\Programs\\Python\\Python311\\Lib\\site-packages\\pandas\\_libs\\index.pyx:165\u001b[0m, in \u001b[0;36mpandas._libs.index.IndexEngine.get_loc\u001b[1;34m()\u001b[0m\n",
      "File \u001b[1;32mpandas\\_libs\\hashtable_class_helper.pxi:5745\u001b[0m, in \u001b[0;36mpandas._libs.hashtable.PyObjectHashTable.get_item\u001b[1;34m()\u001b[0m\n",
      "File \u001b[1;32mpandas\\_libs\\hashtable_class_helper.pxi:5753\u001b[0m, in \u001b[0;36mpandas._libs.hashtable.PyObjectHashTable.get_item\u001b[1;34m()\u001b[0m\n",
      "\u001b[1;31mKeyError\u001b[0m: 0",
      "\nThe above exception was the direct cause of the following exception:\n",
      "\u001b[1;31mKeyError\u001b[0m                                  Traceback (most recent call last)",
      "Cell \u001b[1;32mIn[27], line 1\u001b[0m\n\u001b[1;32m----> 1\u001b[0m get_director2(\u001b[39m\"\u001b[39;49m\u001b[39mQuentin Tarantino\u001b[39;49m\u001b[39m\"\u001b[39;49m)\n",
      "Cell \u001b[1;32mIn[26], line 6\u001b[0m, in \u001b[0;36mget_director2\u001b[1;34m(nombre_director)\u001b[0m\n\u001b[0;32m      4\u001b[0m indice_director \u001b[39m=\u001b[39m []\n\u001b[0;32m      5\u001b[0m \u001b[39mfor\u001b[39;00m indice, elemento \u001b[39min\u001b[39;00m \u001b[39menumerate\u001b[39m(MoviesDataset[\u001b[39m\"\u001b[39m\u001b[39mcrew_names\u001b[39m\u001b[39m\"\u001b[39m]):\n\u001b[1;32m----> 6\u001b[0m     \u001b[39mif\u001b[39;00m nombre_director \u001b[39min\u001b[39;00m MoviesDataset[indice]:\n\u001b[0;32m      7\u001b[0m         indice_director\u001b[39m.\u001b[39mappend(indice)\n\u001b[0;32m      9\u001b[0m     retorno_total \u001b[39m=\u001b[39m MoviesDataset\u001b[39m.\u001b[39mloc[indice_director, \u001b[39m\"\u001b[39m\u001b[39mreturn\u001b[39m\u001b[39m\"\u001b[39m]\u001b[39m.\u001b[39msum()\n",
      "File \u001b[1;32mc:\\Users\\Windows\\AppData\\Local\\Programs\\Python\\Python311\\Lib\\site-packages\\pandas\\core\\frame.py:3807\u001b[0m, in \u001b[0;36mDataFrame.__getitem__\u001b[1;34m(self, key)\u001b[0m\n\u001b[0;32m   3805\u001b[0m \u001b[39mif\u001b[39;00m \u001b[39mself\u001b[39m\u001b[39m.\u001b[39mcolumns\u001b[39m.\u001b[39mnlevels \u001b[39m>\u001b[39m \u001b[39m1\u001b[39m:\n\u001b[0;32m   3806\u001b[0m     \u001b[39mreturn\u001b[39;00m \u001b[39mself\u001b[39m\u001b[39m.\u001b[39m_getitem_multilevel(key)\n\u001b[1;32m-> 3807\u001b[0m indexer \u001b[39m=\u001b[39m \u001b[39mself\u001b[39;49m\u001b[39m.\u001b[39;49mcolumns\u001b[39m.\u001b[39;49mget_loc(key)\n\u001b[0;32m   3808\u001b[0m \u001b[39mif\u001b[39;00m is_integer(indexer):\n\u001b[0;32m   3809\u001b[0m     indexer \u001b[39m=\u001b[39m [indexer]\n",
      "File \u001b[1;32mc:\\Users\\Windows\\AppData\\Local\\Programs\\Python\\Python311\\Lib\\site-packages\\pandas\\core\\indexes\\base.py:3804\u001b[0m, in \u001b[0;36mIndex.get_loc\u001b[1;34m(self, key, method, tolerance)\u001b[0m\n\u001b[0;32m   3802\u001b[0m     \u001b[39mreturn\u001b[39;00m \u001b[39mself\u001b[39m\u001b[39m.\u001b[39m_engine\u001b[39m.\u001b[39mget_loc(casted_key)\n\u001b[0;32m   3803\u001b[0m \u001b[39mexcept\u001b[39;00m \u001b[39mKeyError\u001b[39;00m \u001b[39mas\u001b[39;00m err:\n\u001b[1;32m-> 3804\u001b[0m     \u001b[39mraise\u001b[39;00m \u001b[39mKeyError\u001b[39;00m(key) \u001b[39mfrom\u001b[39;00m \u001b[39merr\u001b[39;00m\n\u001b[0;32m   3805\u001b[0m \u001b[39mexcept\u001b[39;00m \u001b[39mTypeError\u001b[39;00m:\n\u001b[0;32m   3806\u001b[0m     \u001b[39m# If we have a listlike key, _check_indexing_error will raise\u001b[39;00m\n\u001b[0;32m   3807\u001b[0m     \u001b[39m#  InvalidIndexError. Otherwise we fall through and re-raise\u001b[39;00m\n\u001b[0;32m   3808\u001b[0m     \u001b[39m#  the TypeError.\u001b[39;00m\n\u001b[0;32m   3809\u001b[0m     \u001b[39mself\u001b[39m\u001b[39m.\u001b[39m_check_indexing_error(key)\n",
      "\u001b[1;31mKeyError\u001b[0m: 0"
     ]
    }
   ],
   "source": [
    "get_director2(\"Quentin Tarantino\")"
   ]
  }
 ],
 "metadata": {
  "kernelspec": {
   "display_name": "Python 3",
   "language": "python",
   "name": "python3"
  },
  "language_info": {
   "codemirror_mode": {
    "name": "ipython",
    "version": 3
   },
   "file_extension": ".py",
   "mimetype": "text/x-python",
   "name": "python",
   "nbconvert_exporter": "python",
   "pygments_lexer": "ipython3",
   "version": "3.11.1"
  },
  "orig_nbformat": 4
 },
 "nbformat": 4,
 "nbformat_minor": 2
}
